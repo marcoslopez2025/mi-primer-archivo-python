{
 "cells": [
  {
   "cell_type": "code",
   "execution_count": 81,
   "metadata": {},
   "outputs": [
    {
     "data": {
      "text/plain": [
       "['32']"
      ]
     },
     "execution_count": 81,
     "metadata": {},
     "output_type": "execute_result"
    }
   ],
   "source": [
    "\n",
    "productos = []\n",
    "\n",
    "producto = input(\"ingrese\")\n",
    "productos.append(producto)\n",
    "\n",
    "productos\n",
    "                                                               "
   ]
  },
  {
   "cell_type": "code",
   "execution_count": 82,
   "metadata": {},
   "outputs": [
    {
     "name": "stdout",
     "output_type": "stream",
     "text": [
      "holam mundo\n",
      "holam mundo\n",
      "holam mundo\n",
      "holam mundo\n"
     ]
    }
   ],
   "source": [
    "for i in range(4):\n",
    "    print(\"holam mundo\")"
   ]
  },
  {
   "cell_type": "code",
   "execution_count": 105,
   "metadata": {},
   "outputs": [
    {
     "data": {
      "text/plain": [
       "['2', '2']"
      ]
     },
     "execution_count": 105,
     "metadata": {},
     "output_type": "execute_result"
    }
   ],
   "source": [
    "productos = []\n",
    "cantidad_productos= int (input(2))\n",
    "for i in range(cantidad_productos):\n",
    "    producto = input(\"ingrese producto\")\n",
    "    productos.append(producto)\n",
    "\n",
    "productos\n",
    "#repite un determina de rango#"
   ]
  },
  {
   "cell_type": "code",
   "execution_count": null,
   "metadata": {},
   "outputs": [
    {
     "name": "stdout",
     "output_type": "stream",
     "text": [
      "1\n",
      "1\n"
     ]
    },
    {
     "data": {
      "text/plain": [
       "(1, 2, 2, 3, 3, 4)"
      ]
     },
     "execution_count": 78,
     "metadata": {},
     "output_type": "execute_result"
    }
   ],
   "source": [
    "tupla = (1,2,2,3,3,4)\n",
    "#count cuenta cuantas veces se repire un elemento de la tupla\n",
    "print(tupla.count(1))\n",
    "#index\n",
    "print(tupla.index(2))\n",
    "tupla"
   ]
  },
  {
   "cell_type": "code",
   "execution_count": 86,
   "metadata": {},
   "outputs": [
    {
     "data": {
      "text/plain": [
       "{'perro': 'dog'}"
      ]
     },
     "execution_count": 86,
     "metadata": {},
     "output_type": "execute_result"
    }
   ],
   "source": [
    "diccionario = {\"gato\": \"cat\",  \n",
    "               \"perro\": \"dog\" \n",
    "}\n",
    "diccionario.get(\"gato\")\n",
    "#te dan los codigos\n",
    "diccionario.keys()\n",
    "#te dan los valores\n",
    "diccionario.values()\n",
    "#items\n",
    "diccionario.items()\n",
    "#pop eleimina un elemto del dicicionario\n",
    "diccionario.pop(\"gato\")\n",
    "diccionario"
   ]
  },
  {
   "cell_type": "code",
   "execution_count": 88,
   "metadata": {},
   "outputs": [
    {
     "data": {
      "text/plain": [
       "{'codigo': ['1', '2', '3'], 'nombre': ['juanito', 'rosita', 'rigobreto']}"
      ]
     },
     "execution_count": 88,
     "metadata": {},
     "output_type": "execute_result"
    }
   ],
   "source": [
    "cliente = {\n",
    "    \"codigo\":[\"1\",\"2\"],\n",
    "    \"nombre\":[\"juanito\", \"rosita\"] \n",
    "}\n",
    "cliente[\"codigo\"].append(\"3\")\n",
    "cliente[\"nombre\"].append(\"rigobreto\")\n",
    "cliente\n",
    "\n"
   ]
  },
  {
   "cell_type": "code",
   "execution_count": 99,
   "metadata": {},
   "outputs": [
    {
     "name": "stdout",
     "output_type": "stream",
     "text": [
      "delito\n"
     ]
    }
   ],
   "source": [
    "edad=18\n",
    "if edad>=18:\n",
    "    print(\"legal\")\n",
    "elif edad<=0:\n",
    "     print(\"tu dead no puede ser 0\")\n",
    "else:\n",
    "   print(\"delito\")\n"
   ]
  },
  {
   "cell_type": "code",
   "execution_count": 100,
   "metadata": {},
   "outputs": [
    {
     "name": "stdout",
     "output_type": "stream",
     "text": [
      "kvjbs\n"
     ]
    }
   ],
   "source": [
    "cantidad=10\n",
    "edad=0\n",
    "if (cantidad >= 10 and edad<=10):\n",
    "    print(\"kvjbs\")"
   ]
  },
  {
   "cell_type": "code",
   "execution_count": 107,
   "metadata": {},
   "outputs": [
    {
     "name": "stdout",
     "output_type": "stream",
     "text": [
      "hola mundo\n",
      "hola mundo\n",
      "hola mundo\n"
     ]
    }
   ],
   "source": [
    "lista = [1,2,3]\n",
    "for i in lista:\n",
    "    print(\"hola mundo\")"
   ]
  },
  {
   "cell_type": "code",
   "execution_count": 111,
   "metadata": {},
   "outputs": [
    {
     "name": "stdout",
     "output_type": "stream",
     "text": [
      "1\n",
      "3\n",
      "5\n",
      "7\n",
      "9\n"
     ]
    }
   ],
   "source": [
    "for i in range(10):\n",
    "    if i%2!=0:\n",
    "        print(i)"
   ]
  },
  {
   "cell_type": "code",
   "execution_count": 112,
   "metadata": {},
   "outputs": [
    {
     "name": "stdout",
     "output_type": "stream",
     "text": [
      "0\n",
      "2\n",
      "4\n",
      "6\n",
      "8\n"
     ]
    }
   ],
   "source": [
    "for i in range(10):\n",
    "    if i%2==0:\n",
    "        print(i)"
   ]
  }
 ],
 "metadata": {
  "kernelspec": {
   "display_name": "Python 3.9.12 ('base')",
   "language": "python",
   "name": "python3"
  },
  "language_info": {
   "codemirror_mode": {
    "name": "ipython",
    "version": 3
   },
   "file_extension": ".py",
   "mimetype": "text/x-python",
   "name": "python",
   "nbconvert_exporter": "python",
   "pygments_lexer": "ipython3",
   "version": "3.9.12"
  },
  "orig_nbformat": 4,
  "vscode": {
   "interpreter": {
    "hash": "ad2bdc8ecc057115af97d19610ffacc2b4e99fae6737bb82f5d7fb13d2f2c186"
   }
  }
 },
 "nbformat": 4,
 "nbformat_minor": 2
}
