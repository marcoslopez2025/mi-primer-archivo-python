{
 "cells": [
  {
   "cell_type": "code",
   "execution_count": 2,
   "metadata": {},
   "outputs": [
    {
     "name": "stdout",
     "output_type": "stream",
     "text": [
      "hola mundo\n",
      "hola mundo\n",
      "bienvenido a matematica del siglo primero\n",
      "motivate a jugar el gum\n",
      "5\n",
      "\n"
     ]
    }
   ],
   "source": [
    "# primer programa\n",
    "\"\"\"yufyfouuifiofioog\n",
    "tediytdidi\n",
    "edidt\n",
    "\"\"\"\n",
    "print(\"hola mundo\")\n",
    "print(\"hola\",\"mundo\")\n",
    "hola=19.5\n",
    "type(hola)\n",
    "nuevo=\"juju\"\n",
    "type(nuevo)\n",
    "\n",
    "curso=\"matematica\"\n",
    "siglo=\"primero\"\n",
    "\n",
    "print(\"bienvenido a\",curso, \"del siglo\",siglo)\n",
    "\n",
    "juego=\"gum\"\n",
    "esto=\"jugar\"\n",
    "\n",
    "print(\"motivate a\",esto, \"el\",juego)\n",
    "\n",
    "uno=1\n",
    "dos=4\n",
    "print(uno + dos)\n",
    "\n",
    "\n",
    "num1 = int (input('hjhj'))\n",
    "num2 = int (input('sgsg'))\n",
    "total = num1 + num2\n",
    "print(\"la suma total es\", total)\n",
    "\n",
    "\n",
    "\n",
    "print(\"hola\",\"mundo\",\"CERTU\",sep='-', end='\\n')\n",
    "print(\"sdgghfv\") \n"
   ]
  },
  {
   "cell_type": "markdown",
   "metadata": {},
   "source": [
    "# primero\n",
    "#### mayus\n",
    "### mayus\n",
    "\n",
    "- guh\n",
    "  - guy 7\n",
    "\n",
    "<b>nuevo muindo<b>\n",
    "\n",
    "**nuevo mundo**\n",
    "\n",
    "_nuevo mundo_\n",
    "\n",
    "[ingresar aqui](https://www.silvergames.com/es/gun-mayhem-2) \n",
    "\n",
    "![nuevo mundo](https://th.bing.com/th/id/OIP.r6qg8Tk6nfSVFpvB8oMVwwHaEo?pid=ImgDet&rs=1)\n",
    "\n",
    "\n",
    "\n"
   ]
  }
 ],
 "metadata": {
  "kernelspec": {
   "display_name": "Python 3.9.12 ('base')",
   "language": "python",
   "name": "python3"
  },
  "language_info": {
   "codemirror_mode": {
    "name": "ipython",
    "version": 3
   },
   "file_extension": ".py",
   "mimetype": "text/x-python",
   "name": "python",
   "nbconvert_exporter": "python",
   "pygments_lexer": "ipython3",
   "version": "3.9.12"
  },
  "orig_nbformat": 4,
  "vscode": {
   "interpreter": {
    "hash": "ad2bdc8ecc057115af97d19610ffacc2b4e99fae6737bb82f5d7fb13d2f2c186"
   }
  }
 },
 "nbformat": 4,
 "nbformat_minor": 2
}
